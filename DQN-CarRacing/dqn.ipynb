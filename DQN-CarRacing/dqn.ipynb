{
 "cells": [
  {
   "cell_type": "code",
   "execution_count": 131,
   "metadata": {},
   "outputs": [],
   "source": [
    "# gym imports\n",
    "import gym\n",
    "from gym import spaces\n",
    "\n",
    "# helpers\n",
    "import random\n",
    "import numpy as np\n",
    "import pandas as pd\n",
    "from collections import deque\n",
    "import matplotlib.pyplot as plt\n",
    "%matplotlib inline\n",
    "\n",
    "# torch imports\n",
    "import torch\n",
    "import torch.nn as nn\n",
    "import torch.optim as optim\n",
    "from torchview import draw_graph"
   ]
  },
  {
   "cell_type": "code",
   "execution_count": 132,
   "metadata": {},
   "outputs": [
    {
     "name": "stdout",
     "output_type": "stream",
     "text": [
      "Using device: cuda\n"
     ]
    }
   ],
   "source": [
    "# Check for GPU availability and set the device\n",
    "device = torch.device(\"cuda\" if torch.cuda.is_available() else \"cpu\")\n",
    "print(f\"Using device: {device}\")"
   ]
  },
  {
   "cell_type": "code",
   "execution_count": 133,
   "metadata": {},
   "outputs": [],
   "source": [
    "env = gym.make(\"CarRacing-v2\", continuous=False)"
   ]
  },
  {
   "cell_type": "code",
   "execution_count": 134,
   "metadata": {},
   "outputs": [],
   "source": [
    "class QNetwork(nn.Module):\n",
    "    def __init__(self, observation_space: spaces.Box, feature_dim):\n",
    "        super(QNetwork, self).__init__()\n",
    "        n_channels = observation_space.shape[0]\n",
    "        self.conv_layers = nn.Sequential(\n",
    "            nn.Conv2d(n_channels, 16, kernel_size=3, stride=1, padding=1),\n",
    "            nn.ReLU(),\n",
    "            nn.MaxPool2d(kernel_size=2, stride=2),\n",
    "            nn.Conv2d(16, 32, kernel_size=3, stride=1, padding=1),\n",
    "            nn.ReLU(),\n",
    "            nn.MaxPool2d(kernel_size=2, stride=2),\n",
    "            nn.Flatten(),\n",
    "        )\n",
    "\n",
    "        with torch.no_grad():\n",
    "            dummy_input = torch.zeros(1, *observation_space.shape)\n",
    "            n_flatten = self.conv_layers(dummy_input).shape[1]\n",
    "\n",
    "\n",
    "        self.fc_layers = nn.Sequential(\n",
    "            nn.Linear(n_flatten, 128),\n",
    "            nn.ReLU(),\n",
    "            nn.Linear(128, feature_dim),\n",
    "        )\n",
    "\n",
    "    def forward(self, x):\n",
    "        x = self.conv_layers(x)\n",
    "        x = x.view(x.size(0), -1)\n",
    "        x = self.fc_layers(x)\n",
    "        return x"
   ]
  },
  {
   "cell_type": "code",
   "execution_count": 135,
   "metadata": {},
   "outputs": [
    {
     "data": {
      "text/plain": [
       "QNetwork(\n",
       "  (conv_layers): Sequential(\n",
       "    (0): Conv2d(3, 16, kernel_size=(3, 3), stride=(1, 1), padding=(1, 1))\n",
       "    (1): ReLU()\n",
       "    (2): MaxPool2d(kernel_size=2, stride=2, padding=0, dilation=1, ceil_mode=False)\n",
       "    (3): Conv2d(16, 32, kernel_size=(3, 3), stride=(1, 1), padding=(1, 1))\n",
       "    (4): ReLU()\n",
       "    (5): MaxPool2d(kernel_size=2, stride=2, padding=0, dilation=1, ceil_mode=False)\n",
       "    (6): Flatten(start_dim=1, end_dim=-1)\n",
       "  )\n",
       "  (fc_layers): Sequential(\n",
       "    (0): Linear(in_features=18432, out_features=128, bias=True)\n",
       "    (1): ReLU()\n",
       "    (2): Linear(in_features=128, out_features=5, bias=True)\n",
       "  )\n",
       ")"
      ]
     },
     "execution_count": 135,
     "metadata": {},
     "output_type": "execute_result"
    }
   ],
   "source": [
    "observation_space = gym.spaces.Box(low=0, high=255, shape=(3, 96, 96), dtype=np.float32)\n",
    "feature_dim = 5\n",
    "\n",
    "q_net = QNetwork(observation_space=observation_space, feature_dim=feature_dim).to(device)\n",
    "target_net = QNetwork(observation_space=observation_space, feature_dim=feature_dim).to(device)\n",
    "target_net.load_state_dict(q_net.state_dict())\n",
    "target_net.eval()"
   ]
  },
  {
   "cell_type": "code",
   "execution_count": 136,
   "metadata": {},
   "outputs": [],
   "source": [
    "loss_fn = nn.CrossEntropyLoss()\n",
    "optimizer = optim.Adam(q_net.parameters())"
   ]
  },
  {
   "cell_type": "code",
   "execution_count": 137,
   "metadata": {},
   "outputs": [],
   "source": [
    "# Parameters\n",
    "GAMMA = 0.99\n",
    "EPSILON = 1.0\n",
    "BATCH_SIZE = 64\n",
    "NUM_EPISODES = 10\n",
    "EPSILON_DECAY = 1.005\n",
    "MAX_TRANSITIONS = 100_000\n",
    "LEARN_AFTER_STEPS = 4\n",
    "TARGET_UPDATE_AFTER = 1000"
   ]
  },
  {
   "cell_type": "code",
   "execution_count": 138,
   "metadata": {},
   "outputs": [],
   "source": [
    "REPLAY_BUFFER = deque(maxlen=MAX_TRANSITIONS)"
   ]
  },
  {
   "cell_type": "code",
   "execution_count": 139,
   "metadata": {},
   "outputs": [],
   "source": [
    "def insert_transition(transition):\n",
    "    REPLAY_BUFFER.append(transition)"
   ]
  },
  {
   "cell_type": "code",
   "execution_count": 140,
   "metadata": {},
   "outputs": [],
   "source": [
    "def sample_transitions(batch_size=16):\n",
    "    sampled = random.sample(REPLAY_BUFFER, batch_size)\n",
    "    states, actions, rewards, next_states, dones = zip(*sampled)\n",
    "\n",
    "    return (\n",
    "        torch.tensor(states, dtype=torch.float32,device=device).permute(0,3,1,2),\n",
    "        torch.tensor(actions, dtype=torch.int64,device=device),\n",
    "        torch.tensor(rewards, dtype=torch.float32,device=device),\n",
    "        torch.tensor(next_states, dtype=torch.float32,device=device).permute(0,3,1,2),\n",
    "        torch.tensor(dones, dtype=torch.bool,device=device),\n",
    "    )"
   ]
  },
  {
   "cell_type": "code",
   "execution_count": 141,
   "metadata": {},
   "outputs": [],
   "source": [
    "def policy(state, explore=0.0):\n",
    "    if np.random.rand() <= explore:\n",
    "        return np.random.randint(5)\n",
    "\n",
    "    with torch.no_grad():\n",
    "        state_tensor = torch.tensor([state], dtype=torch.float32, device=device)\n",
    "        state_tensor = state_tensor.permute(0,3,1,2)\n",
    "\n",
    "        return q_net(state_tensor).argmax().item()"
   ]
  },
  {
   "cell_type": "code",
   "execution_count": 142,
   "metadata": {},
   "outputs": [
    {
     "name": "stderr",
     "output_type": "stream",
     "text": [
      "c:\\Users\\vaibh\\AppData\\Local\\Programs\\Python\\Python310\\lib\\site-packages\\gym\\utils\\passive_env_checker.py:233: DeprecationWarning: `np.bool8` is a deprecated alias for `np.bool_`.  (Deprecated NumPy 1.24)\n",
      "  if not isinstance(terminated, (bool, np.bool8)):\n"
     ]
    }
   ],
   "source": [
    "random_states = []\n",
    "done = False\n",
    "state = env.reset()[0]\n",
    "\n",
    "for _ in range(20):\n",
    "    if not done:\n",
    "        random_states.append(state)\n",
    "        state, _, terminated, truncated, _ = env.step(policy(state))\n",
    "        done = terminated or truncated\n",
    "\n",
    "random_states = torch.tensor(random_states, dtype=torch.float32, device=device)"
   ]
  },
  {
   "cell_type": "code",
   "execution_count": 143,
   "metadata": {},
   "outputs": [],
   "source": [
    "def get_q_values(states):\n",
    "    with torch.no_grad():\n",
    "        states = states.permute(0,3,1,2)\n",
    "        return q_net(states).max(dim=1)[0]"
   ]
  },
  {
   "cell_type": "code",
   "execution_count": 144,
   "metadata": {},
   "outputs": [],
   "source": [
    "step_counter = 0\n",
    "metric = {\n",
    "    \"episode\": [],\n",
    "    \"length\": [],\n",
    "    \"total_reward\": [],\n",
    "    \"avg_q\": [],\n",
    "    \"exploration\": [],\n",
    "}"
   ]
  },
  {
   "cell_type": "code",
   "execution_count": 145,
   "metadata": {},
   "outputs": [
    {
     "name": "stdout",
     "output_type": "stream",
     "text": [
      "episode: 0, episode_length: 1000, total_reward: -66.8674698795188, avg_q: 0.503722608089447\n",
      "episode: 1, episode_length: 1000, total_reward: -62.732919254659194, avg_q: 0.4370291233062744\n",
      "episode: 2, episode_length: 1000, total_reward: -45.84837545126425, avg_q: 0.3730293810367584\n",
      "episode: 3, episode_length: 1000, total_reward: -57.59717314487714, avg_q: 0.1820891946554184\n",
      "episode: 4, episode_length: 1000, total_reward: -61.194029850747114, avg_q: 0.1603076308965683\n",
      "episode: 5, episode_length: 1000, total_reward: -45.45454545454622, avg_q: 0.13089799880981445\n",
      "episode: 6, episode_length: 1000, total_reward: -46.66666666666738, avg_q: 0.12478765100240707\n",
      "episode: 7, episode_length: 1000, total_reward: -56.67870036101169, avg_q: 0.11879073828458786\n",
      "episode: 8, episode_length: 1000, total_reward: -59.86622073578678, avg_q: 0.09934001415967941\n",
      "episode: 9, episode_length: 1000, total_reward: -60.52631578947451, avg_q: 0.09613050520420074\n"
     ]
    }
   ],
   "source": [
    "for episode in range(NUM_EPISODES):\n",
    "    state = env.reset()[0]\n",
    "    done = False\n",
    "    total_rewards = 0\n",
    "    episode_length = 0\n",
    "\n",
    "    while not done:\n",
    "        action = policy(state=state, explore=EPSILON)\n",
    "        next_state, reward, terminated, truncated, info = env.step(action)\n",
    "        done = terminated or truncated\n",
    "        insert_transition((state, action, reward, next_state, done))\n",
    "        state = next_state\n",
    "        step_counter += 1\n",
    "\n",
    "        if step_counter >= BATCH_SIZE and step_counter % LEARN_AFTER_STEPS == 0:\n",
    "            states, actions, rewards, next_states, dones = sample_transitions(BATCH_SIZE)\n",
    "\n",
    "            # Compute targets\n",
    "            with torch.no_grad():\n",
    "                next_action_values = target_net(next_states).argmax().item()\n",
    "                targets = rewards + GAMMA * next_action_values * (~dones)\n",
    "\n",
    "            # Compute Q values for the selected actions\n",
    "            preds = q_net(states)\n",
    "            current_values = preds.gather(1, actions.unsqueeze(1)).squeeze()\n",
    "\n",
    "            # Compute loss and backprop\n",
    "            loss = loss_fn(current_values, targets)\n",
    "            optimizer.zero_grad()\n",
    "            loss.backward()\n",
    "            optimizer.step()\n",
    "\n",
    "        if step_counter % TARGET_UPDATE_AFTER == 0:\n",
    "            target_net.load_state_dict(q_net.state_dict())\n",
    "\n",
    "        total_rewards += reward\n",
    "        episode_length += 1\n",
    "\n",
    "    # Save metrics\n",
    "    avg_q = get_q_values(random_states).mean().item()\n",
    "    metric[\"episode\"].append(episode)\n",
    "    metric[\"length\"].append(episode_length)\n",
    "    metric[\"total_reward\"].append(total_rewards)\n",
    "    metric[\"avg_q\"].append(avg_q)\n",
    "    metric[\"exploration\"].append(EPSILON)\n",
    "\n",
    "    EPSILON /= EPSILON_DECAY\n",
    "\n",
    "    print(f\"episode: {episode}, episode_length: {episode_length}, total_reward: {total_rewards}, avg_q: {avg_q}\")\n",
    "\n",
    "    pd.DataFrame(metric).to_csv(\"metric.csv\", index=False)\n",
    "\n",
    "env.close()\n",
    "torch.save(q_net.state_dict(), \"dqn_q_net.pth\")"
   ]
  },
  {
   "cell_type": "markdown",
   "metadata": {},
   "source": [
    "# Inference\n",
    "- With this speed it's going to take ages for DQN to get trained.\n",
    "- Let's try continuous RL Algorithms such as A2C/A3C"
   ]
  }
 ],
 "metadata": {
  "kernelspec": {
   "display_name": "Python 3",
   "language": "python",
   "name": "python3"
  },
  "language_info": {
   "codemirror_mode": {
    "name": "ipython",
    "version": 3
   },
   "file_extension": ".py",
   "mimetype": "text/x-python",
   "name": "python",
   "nbconvert_exporter": "python",
   "pygments_lexer": "ipython3",
   "version": "3.10.4"
  }
 },
 "nbformat": 4,
 "nbformat_minor": 2
}
